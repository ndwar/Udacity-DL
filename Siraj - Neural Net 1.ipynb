{
 "cells": [
  {
   "cell_type": "code",
   "execution_count": 11,
   "metadata": {
    "collapsed": false,
    "scrolled": true
   },
   "outputs": [],
   "source": [
    "from numpy import exp, array, random, dot"
   ]
  },
  {
   "cell_type": "code",
   "execution_count": 20,
   "metadata": {
    "collapsed": false
   },
   "outputs": [],
   "source": [
    "class NeuralNetwork():\n",
    "    def __init__(self):\n",
    "        # Seed the random number generator, so it generates the same numbers everytime the program runs\n",
    "        random.seed(1)\n",
    "        \n",
    "        # We model a single neuron, with 3 input connections and 1 output connection\n",
    "        # We assign random weights to a 3 x 1 matrix, with values in the range -1 to 1 and mean 0\n",
    "        self.synaptic_weights = 2 * random.random((3,1)) - 1\n",
    "    \n",
    "    # The Sigmoid function, which describes an s-shaped curve\n",
    "    # We pass the weighted sum of the inputs through this function\n",
    "    # To normalize them between 0 and 1\n",
    "    def __sigmoid(self, x):\n",
    "        return 1/(1+exp(-x))\n",
    "    \n",
    "    # Gradient of the sigmoid curve | x being passed here is a sigmoid function\n",
    "    def __sigmoid_derivative(self, x):\n",
    "        return x * (1-x)\n",
    "    \n",
    "    def train(self, training_set_inputs, training_set_outputs, number_of_training_iterations):\n",
    "        for iteration in range(number_of_training_iterations):\n",
    "            # Pass the training set through the neural net\n",
    "            output = self.predict(training_set_inputs)\n",
    "            \n",
    "            # Calculate the error\n",
    "            error = training_set_outputs - output\n",
    "            \n",
    "            # Multiply the error by the input and again by the gradient of the sigmoid curve\n",
    "            adjustment = dot(training_set_inputs.T, error * self.__sigmoid_derivative(output))\n",
    "            \n",
    "            # Adjust the weights\n",
    "            self.synaptic_weights += adjustment\n",
    "        \n",
    "    def predict(self, inputs):\n",
    "        # Pass inputs through our neural network (single neuron)\n",
    "        return self.__sigmoid(dot(inputs, self.synaptic_weights))"
   ]
  },
  {
   "cell_type": "code",
   "execution_count": 21,
   "metadata": {
    "collapsed": false
   },
   "outputs": [],
   "source": [
    "#if __name__ = '__main__':\n",
    "    \n",
    "# initiatlize a single neuron neural network\n",
    "neural_network = NeuralNetwork()\n",
    "   "
   ]
  },
  {
   "cell_type": "code",
   "execution_count": 22,
   "metadata": {
    "collapsed": false
   },
   "outputs": [
    {
     "name": "stdout",
     "output_type": "stream",
     "text": [
      "Random starting synaptic weights:\n",
      "[[-0.16595599]\n",
      " [ 0.44064899]\n",
      " [-0.99977125]]\n",
      "New synaptic weights after training: \n",
      "[[ 9.67299303]\n",
      " [-0.2078435 ]\n",
      " [-4.62963669]]\n",
      "predicting :\n",
      "[ 0.99993704]\n"
     ]
    }
   ],
   "source": [
    " \n",
    "print('Random starting synaptic weights:')\n",
    "print(neural_network.synaptic_weights)\n",
    "\n",
    "# The training set. We have 4 examples, eachof 3 input values & 1 output value\n",
    "training_set_inputs = array([[0,0,1], [1,1,1], [1,0,1], [0,1,1]])\n",
    "training_set_outputs = array([[0,1,1,0]]).T\n",
    "\n",
    "#train the neural network using a training set\n",
    "#Do it 10,000 times and make small adjustmets each time\n",
    "neural_network.train(training_set_inputs, training_set_outputs, 10000)\n",
    "\n",
    "print('New synaptic weights after training: ')\n",
    "print(neural_network.synaptic_weights)\n",
    "\n",
    "#Test the neural network\n",
    "print('predicting :')\n",
    "print(neural_network.predict([1,0,0]))"
   ]
  },
  {
   "cell_type": "code",
   "execution_count": null,
   "metadata": {
    "collapsed": true
   },
   "outputs": [],
   "source": [
    "\n"
   ]
  },
  {
   "cell_type": "markdown",
   "metadata": {},
   "source": [
    "Code below to calculate output for a simple network with a sigmoid activation function"
   ]
  },
  {
   "cell_type": "code",
   "execution_count": null,
   "metadata": {
    "collapsed": true
   },
   "outputs": [],
   "source": [
    "import numpy as np\n",
    "\n",
    "def sigmoid(x):\n",
    "    # TODO: Implement sigmoid function\n",
    "    return 1/(1+np.exp(-x))\n",
    "\n",
    "inputs = np.array([0.7, -0.3])\n",
    "weights = np.array([0.1, 0.8])\n",
    "bias = -0.1\n",
    "\n",
    "# TODO: Calculate the output\n",
    "output = sigmoid(np.dot(inputs,weights)+bias)\n",
    "\n",
    "print('Output:')\n",
    "print(output)\n"
   ]
  }
 ],
 "metadata": {
  "kernelspec": {
   "display_name": "Python 3",
   "language": "python",
   "name": "python3"
  },
  "language_info": {
   "codemirror_mode": {
    "name": "ipython",
    "version": 3
   },
   "file_extension": ".py",
   "mimetype": "text/x-python",
   "name": "python",
   "nbconvert_exporter": "python",
   "pygments_lexer": "ipython3",
   "version": "3.6.0"
  }
 },
 "nbformat": 4,
 "nbformat_minor": 2
}
